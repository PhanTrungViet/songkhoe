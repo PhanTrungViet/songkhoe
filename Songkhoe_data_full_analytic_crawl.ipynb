{
 "cells": [
  {
   "cell_type": "code",
   "execution_count": 95,
   "metadata": {
    "collapsed": false
   },
   "outputs": [],
   "source": [
    "import pandas as pd\n",
    "import requests\n",
    "from bs4 import BeautifulSoup"
   ]
  },
  {
   "cell_type": "code",
   "execution_count": 11,
   "metadata": {
    "collapsed": true
   },
   "outputs": [],
   "source": [
    "r = requests.get(\"http://diendan.songkhoe.vn/dien-dan-bach-hau-s2531-1025.html\")"
   ]
  },
  {
   "cell_type": "code",
   "execution_count": 12,
   "metadata": {
    "collapsed": false
   },
   "outputs": [],
   "source": [
    "soup = BeautifulSoup(r.text, 'html.parser')"
   ]
  },
  {
   "cell_type": "code",
   "execution_count": 96,
   "metadata": {
    "collapsed": true
   },
   "outputs": [],
   "source": [
    "def tao_soup(link):\n",
    "    r = requests.get(link)\n",
    "    soup = BeautifulSoup(r.text, 'html.parser')\n",
    "    return soup"
   ]
  },
  {
   "cell_type": "code",
   "execution_count": 104,
   "metadata": {
    "collapsed": false
   },
   "outputs": [],
   "source": [
    "def xet_chi_tiet(soup):\n",
    "    a_results = soup.find_all('a', attrs={'class':'wtc-lnk-img'})\n",
    "    trieuchung, nguyennhan, dieutri, phongtranh = '','','',''\n",
    "    for a in a_results:\n",
    "        link = a['href'][1:]\n",
    "        if 'chi-tiet' in link:\n",
    "            if 'trieu-chung' in link:\n",
    "                trieuchung = 'http://diendan.songkhoe.vn' + link\n",
    "            if 'nguyen-nhan' in link:\n",
    "                nguyennhan = 'http://diendan.songkhoe.vn' + link\n",
    "            if 'dieu-tri' in link:\n",
    "                dieutri = 'http://diendan.songkhoe.vn' + link\n",
    "            if 'phong-ngua' in link:\n",
    "                phongtranh = 'http://diendan.songkhoe.vn' + link\n",
    "            if 'phong-tranh' in link:\n",
    "                phongtranh = 'http://diendan.songkhoe.vn' + link\n",
    "            if 'phuong-phap' in link:\n",
    "                phongtranh = 'http://diendan.songkhoe.vn' + link\n",
    "    return trieuchung, nguyennhan, dieutri, phongtranh"
   ]
  },
  {
   "cell_type": "code",
   "execution_count": 92,
   "metadata": {
    "collapsed": false
   },
   "outputs": [],
   "source": [
    "soup= tao_soup('http://diendan.songkhoe.vn/dien-dan-benh-do-vi-rut-zika-s2531-1316.html')\n",
    "a_results = soup.find_all('a', attrs={'class':'wtc-lnk-img'})\n",
    "#h3_results = soup.find_all('h3', attrs={'class':'wtc-h3-shapo'})"
   ]
  },
  {
   "cell_type": "code",
   "execution_count": 93,
   "metadata": {
    "collapsed": false
   },
   "outputs": [
    {
     "name": "stdout",
     "output_type": "stream",
     "text": [
      "http://diendan.songkhoe.vn/kham-pha-bi-quyet-thoi-bung-lua-yeu-s2959-1192-512294.html\n",
      "http://diendan.songkhoe.vn/nhung-cam-ki-can-tranh-khi-dung-gung-s2955-1176-110020.html\n",
      "http://diendan.songkhoe.vn/ly-do-lam-ban-lanh-tay-chan-vao-mua-dong-s2964-0-109347.html\n",
      "http://diendan.songkhoe.vn/kiem-soat-benh-man-tinh-trong-cac-ky-nghi-s2964-0-512251.html\n",
      "http://diendan.songkhoe.vn/mo-xuong-thuy-tinh-cho-be-cao-tinh-nguoi-raglai-s2961-1187-512250.html\n"
     ]
    }
   ],
   "source": [
    "for a in a_results:\n",
    "    print('http://diendan.songkhoe.vn'+a['href'][1:])"
   ]
  },
  {
   "cell_type": "code",
   "execution_count": 79,
   "metadata": {
    "collapsed": false
   },
   "outputs": [
    {
     "name": "stdout",
     "output_type": "stream",
     "text": [
      "http://diendan.songkhoe.vn/chi-tiet-dieu-tri-benh-bach-hau-s2531-1025-444768.html\n"
     ]
    }
   ],
   "source": [
    "a,b,c,d = xet_chi_tiet(a_results)\n",
    "print(c)"
   ]
  },
  {
   "cell_type": "code",
   "execution_count": 98,
   "metadata": {
    "collapsed": false
   },
   "outputs": [],
   "source": [
    "def lay_noi_dung(link):\n",
    "    txt = \"\"\n",
    "    soup = tao_soup(link)\n",
    "    div_results = soup.find('div',attrs={'class':'wtc-div-title detailDisease_TinBenh_8_9914'})\n",
    "    ps = div_results.find_all('p')\n",
    "    for p in ps:\n",
    "        txt += p.text\n",
    "    return txt"
   ]
  },
  {
   "cell_type": "code",
   "execution_count": 83,
   "metadata": {
    "collapsed": false
   },
   "outputs": [
    {
     "name": "stdout",
     "output_type": "stream",
     "text": [
      "1. Tác nhân gây bệnhTên tác nhân gây bệnh là Corynebacterium diphtheriae thuộc họ Corynebacteriaceae. Đây là một loại trực khuẩn, có 3 týp là Gravis, Mitis và Intermedius. \r\n",
      "Trực khuẩn bạch hầu sống rất lâu trong giả mạc và trong họng của những bệnh nhân đang ở thời kỳ lại sức (ở chỗ viêm, tới 6 tháng sau cấy vi khuẩn vẫn còn mọc). Người ta cũng thấy nó sống rất lâu (tới vài tháng) trên các đồ chơi của trẻ em bị bệnh bạch hầu, trên áo choàng của nhân viên y tế, trong các buồng bệnh điều trị bạch hầu. Tuy nhiên, trực khuẩn gây bệnh rất nhạy cảm với các yếu tố lý hóa. Dưới ánh sáng mặt trời chiếu trực tiếp trực khuẩn bị chết sau vài giờ, ở nhiệt độ 58 độ C sống được 10 phút, còn trong phenol 1% hoặc cồn chỉ có thể sống được 1 phút.2. Phương thức lây truyềnBệnh lây truyền qua đường hô hấp do tiếp xúc trực tiếp với người bệnh và người lành mang khuẩn. Những người này mang mầm bệnh trong họng hay trong mũi họng trung bình từ 3-4 tuần, có khi kéo dài hơn 1 năm (khi họ ho, hắt hơi... trực khuẩn theo các giọt nước bắn sang người lành và làm lây bệnh). Bệnh cũng có thể lây do tiếp xúc với những đồ vật có dính chất bài tiết của người bị nhiễm khuẩn.\n",
      "\n",
      "\n",
      "Theo Suckhoedoisong.vn \n",
      "\n"
     ]
    }
   ],
   "source": [
    "print(lay_noi_dung(b))"
   ]
  },
  {
   "cell_type": "code",
   "execution_count": 89,
   "metadata": {
    "collapsed": true
   },
   "outputs": [],
   "source": [
    "df = pd.read_excel(r'F:\\songkhoe.xlsx')\n",
    "danhsach = df.linkbenh"
   ]
  },
  {
   "cell_type": "code",
   "execution_count": 90,
   "metadata": {
    "collapsed": false
   },
   "outputs": [
    {
     "data": {
      "text/plain": [
       "0    http://diendan.songkhoe.vn/dien-dan-bach-hau-s...\n",
       "1    http://diendan.songkhoe.vn/dien-dan-bai-liet-s...\n",
       "2    http://diendan.songkhoe.vn/dien-dan-benh-chaga...\n",
       "3    http://diendan.songkhoe.vn/dien-dan-benh-dai-s...\n",
       "4    http://diendan.songkhoe.vn/dien-dan-benh-do-vi...\n",
       "Name: linkbenh, dtype: object"
      ]
     },
     "execution_count": 90,
     "metadata": {},
     "output_type": "execute_result"
    }
   ],
   "source": [
    "danhsach.head()"
   ]
  },
  {
   "cell_type": "code",
   "execution_count": 106,
   "metadata": {
    "collapsed": false
   },
   "outputs": [
    {
     "data": {
      "text/plain": [
       "80"
      ]
     },
     "execution_count": 106,
     "metadata": {},
     "output_type": "execute_result"
    }
   ],
   "source": [
    "records = []\n",
    "for ds in danhsach:\n",
    "    if 'zika' in ds:\n",
    "        records.append(('','','',''))\n",
    "        continue\n",
    "    soup = tao_soup(ds)\n",
    "    tc, nn, dt, pt = xet_chi_tiet(soup)\n",
    "    if tc != '':\n",
    "        trieuchung = lay_noi_dung(tc)\n",
    "    if nn != '':\n",
    "        nguyennhan = lay_noi_dung(nn)\n",
    "    if dt != '':\n",
    "        dieutri = lay_noi_dung(dt)\n",
    "    if pt != '':\n",
    "        phongtranh = lay_noi_dung(pt)\n",
    "    records.append((trieuchung, nguyennhan, dieutri, phongtranh))\n",
    "len(records)"
   ]
  },
  {
   "cell_type": "code",
   "execution_count": 108,
   "metadata": {
    "collapsed": false
   },
   "outputs": [
    {
     "data": {
      "text/html": [
       "<div>\n",
       "<style>\n",
       "    .dataframe thead tr:only-child th {\n",
       "        text-align: right;\n",
       "    }\n",
       "\n",
       "    .dataframe thead th {\n",
       "        text-align: left;\n",
       "    }\n",
       "\n",
       "    .dataframe tbody tr th {\n",
       "        vertical-align: top;\n",
       "    }\n",
       "</style>\n",
       "<table border=\"1\" class=\"dataframe\">\n",
       "  <thead>\n",
       "    <tr style=\"text-align: right;\">\n",
       "      <th></th>\n",
       "      <th>trieuchung</th>\n",
       "      <th>nguyennhan</th>\n",
       "      <th>dieutri</th>\n",
       "      <th>phongtranh</th>\n",
       "    </tr>\n",
       "  </thead>\n",
       "  <tbody>\n",
       "    <tr>\n",
       "      <th>0</th>\n",
       "      <td>Triệu chứng của bệnh biểu hiện tùy theo từng t...</td>\n",
       "      <td>1. Tác nhân gây bệnhTên tác nhân gây bệnh là C...</td>\n",
       "      <td>Nguyên tắc điều trị:- Trung hoà độc tố càng sớ...</td>\n",
       "      <td>1. Chẩn đoán xác định1.1 Dựa vào biểu hiện lâm...</td>\n",
       "    </tr>\n",
       "    <tr>\n",
       "      <th>1</th>\n",
       "      <td>+ Thể liệt mềm cấp điển hình: chiếm 1% với các...</td>\n",
       "      <td>1. Tác nhân gây bệnh- Vi-rút bại liệt Polio (P...</td>\n",
       "      <td>+ Nguyên tắc điều trị: Bệnh bại liệt là bệnh l...</td>\n",
       "      <td>1. Biện pháp dự phòngTuyên truyền giáo dục cộn...</td>\n",
       "    </tr>\n",
       "    <tr>\n",
       "      <th>2</th>\n",
       "      <td>Bệnh do Trypanosoma cruzi gây ra có các biểu h...</td>\n",
       "      <td>Nguồn bệnh chính là người bệnh, ngoài ra còn c...</td>\n",
       "      <td>Trong điều trị, những thuốc có dẫn chất của as...</td>\n",
       "      <td>Phòng, chống bệnh bằng cách phát hiện và điều ...</td>\n",
       "    </tr>\n",
       "    <tr>\n",
       "      <th>3</th>\n",
       "      <td>\\r\\n*Triệu chứng tiền lâm sàng:\\nNhững dấu hiệ...</td>\n",
       "      <td>Bệnh dại là do vi-rút bệnh dại gây ra. Động vậ...</td>\n",
       "      <td>Điều trị nguyên nhân- Chăm sóc phần cơ thể bị ...</td>\n",
       "      <td>Bệnh dại là do vi-rút bệnh dại gây ra. Động vậ...</td>\n",
       "    </tr>\n",
       "    <tr>\n",
       "      <th>4</th>\n",
       "      <td></td>\n",
       "      <td></td>\n",
       "      <td></td>\n",
       "      <td></td>\n",
       "    </tr>\n",
       "  </tbody>\n",
       "</table>\n",
       "</div>"
      ],
      "text/plain": [
       "                                          trieuchung  \\\n",
       "0  Triệu chứng của bệnh biểu hiện tùy theo từng t...   \n",
       "1  + Thể liệt mềm cấp điển hình: chiếm 1% với các...   \n",
       "2  Bệnh do Trypanosoma cruzi gây ra có các biểu h...   \n",
       "3  \\r\\n*Triệu chứng tiền lâm sàng:\\nNhững dấu hiệ...   \n",
       "4                                                      \n",
       "\n",
       "                                          nguyennhan  \\\n",
       "0  1. Tác nhân gây bệnhTên tác nhân gây bệnh là C...   \n",
       "1  1. Tác nhân gây bệnh- Vi-rút bại liệt Polio (P...   \n",
       "2  Nguồn bệnh chính là người bệnh, ngoài ra còn c...   \n",
       "3  Bệnh dại là do vi-rút bệnh dại gây ra. Động vậ...   \n",
       "4                                                      \n",
       "\n",
       "                                             dieutri  \\\n",
       "0  Nguyên tắc điều trị:- Trung hoà độc tố càng sớ...   \n",
       "1  + Nguyên tắc điều trị: Bệnh bại liệt là bệnh l...   \n",
       "2  Trong điều trị, những thuốc có dẫn chất của as...   \n",
       "3  Điều trị nguyên nhân- Chăm sóc phần cơ thể bị ...   \n",
       "4                                                      \n",
       "\n",
       "                                          phongtranh  \n",
       "0  1. Chẩn đoán xác định1.1 Dựa vào biểu hiện lâm...  \n",
       "1  1. Biện pháp dự phòngTuyên truyền giáo dục cộn...  \n",
       "2  Phòng, chống bệnh bằng cách phát hiện và điều ...  \n",
       "3  Bệnh dại là do vi-rút bệnh dại gây ra. Động vậ...  \n",
       "4                                                     "
      ]
     },
     "execution_count": 108,
     "metadata": {},
     "output_type": "execute_result"
    }
   ],
   "source": [
    "df2 = pd.DataFrame(records, columns=['trieuchung', 'nguyennhan', 'dieutri', 'phongtranh'])\n",
    "df2.head()"
   ]
  },
  {
   "cell_type": "code",
   "execution_count": 109,
   "metadata": {
    "collapsed": true
   },
   "outputs": [],
   "source": [
    "df2.to_csv(r'F:\\songkhoe_full.csv', index = False, encoding='utf-8')"
   ]
  }
 ],
 "metadata": {
  "kernelspec": {
   "display_name": "Python 3",
   "language": "python",
   "name": "python3"
  },
  "language_info": {
   "codemirror_mode": {
    "name": "ipython",
    "version": 3
   },
   "file_extension": ".py",
   "mimetype": "text/x-python",
   "name": "python",
   "nbconvert_exporter": "python",
   "pygments_lexer": "ipython3",
   "version": "3.6.1"
  }
 },
 "nbformat": 4,
 "nbformat_minor": 2
}
