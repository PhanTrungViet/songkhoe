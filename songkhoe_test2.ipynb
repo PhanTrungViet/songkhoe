{
 "cells": [
  {
   "cell_type": "code",
   "execution_count": 24,
   "metadata": {
    "collapsed": false,
    "deletable": true,
    "editable": true
   },
   "outputs": [
    {
     "name": "stdout",
     "output_type": "stream",
     "text": [
      "68\n"
     ]
    }
   ],
   "source": [
    "import sys\n",
    "import pandas as pd\n",
    "from sklearn.externals import joblib\n",
    "from sklearn.feature_extraction.text import CountVectorizer\n",
    "from sklearn.feature_extraction.text import TfidfTransformer\n",
    "\n",
    "#input_model = sys.argv[1]\n",
    "#input_vect = sys.argv[2]\n",
    "#input_str = sys.argv[3]\n",
    "\n",
    "#count_vect = CountVectorizer()\n",
    "tfidf_transformer = TfidfTransformer()\n",
    "\n",
    "loaded_vol = joblib.load(r'C:\\Users\\Phan\\Desktop\\20171126\\2017112624\\vect.pkl')\n",
    "count_vect = CountVectorizer(vocabulary =loaded_vol)\n",
    "\n",
    "test = pd.DataFrame(['cho thông tin bệnh uốn ván'], columns=['nd'])\n",
    "test = count_vect.transform(test.nd)\n",
    "test_tfidf = tfidf_transformer.fit_transform(test)\n",
    "\n",
    "loaded_model = joblib.load(r'C:\\Users\\Phan\\Desktop\\20171126\\2017112624\\model.pkl')\n",
    "results = loaded_model.predict(test_tfidf)\n",
    "\n",
    "for i in results:\n",
    "    print (i)"
   ]
  }
 ],
 "metadata": {
  "kernelspec": {
   "display_name": "Python 3",
   "language": "python",
   "name": "python3"
  },
  "language_info": {
   "codemirror_mode": {
    "name": "ipython",
    "version": 3
   },
   "file_extension": ".py",
   "mimetype": "text/x-python",
   "name": "python",
   "nbconvert_exporter": "python",
   "pygments_lexer": "ipython3",
   "version": "3.6.1"
  }
 },
 "nbformat": 4,
 "nbformat_minor": 2
}
