{
 "cells": [
  {
   "cell_type": "code",
   "execution_count": 2,
   "metadata": {
    "collapsed": true,
    "deletable": true,
    "editable": true
   },
   "outputs": [],
   "source": [
    "import pandas as pd"
   ]
  },
  {
   "cell_type": "code",
   "execution_count": 3,
   "metadata": {
    "collapsed": false,
    "deletable": true,
    "editable": true
   },
   "outputs": [
    {
     "data": {
      "text/html": [
       "<div>\n",
       "<style>\n",
       "    .dataframe thead tr:only-child th {\n",
       "        text-align: right;\n",
       "    }\n",
       "\n",
       "    .dataframe thead th {\n",
       "        text-align: left;\n",
       "    }\n",
       "\n",
       "    .dataframe tbody tr th {\n",
       "        vertical-align: top;\n",
       "    }\n",
       "</style>\n",
       "<table border=\"1\" class=\"dataframe\">\n",
       "  <thead>\n",
       "    <tr style=\"text-align: right;\">\n",
       "      <th></th>\n",
       "      <th>tenbenh</th>\n",
       "      <th>linkbenh</th>\n",
       "      <th>linkgioithieu</th>\n",
       "      <th>nd</th>\n",
       "    </tr>\n",
       "  </thead>\n",
       "  <tbody>\n",
       "    <tr>\n",
       "      <th>0</th>\n",
       "      <td>Bạch hầu</td>\n",
       "      <td>http://diendan.songkhoe.vn/dien-dan-bach-hau-s...</td>\n",
       "      <td>http://diendan.songkhoe.vn/chi-tiet-gioi-thieu...</td>\n",
       "      <td>Bệnh bạch hầu là bệnh nhiễm trùng cấp tính lây...</td>\n",
       "    </tr>\n",
       "    <tr>\n",
       "      <th>1</th>\n",
       "      <td>Bại liệt</td>\n",
       "      <td>http://diendan.songkhoe.vn/dien-dan-bai-liet-s...</td>\n",
       "      <td>http://diendan.songkhoe.vn/chi-tiet-gioi-thieu...</td>\n",
       "      <td>Bệnh bại liệt là một bệnh nhiễm vi-rút cấp tín...</td>\n",
       "    </tr>\n",
       "    <tr>\n",
       "      <th>2</th>\n",
       "      <td>Bệnh Chagas</td>\n",
       "      <td>http://diendan.songkhoe.vn/dien-dan-benh-chaga...</td>\n",
       "      <td>http://diendan.songkhoe.vn/chi-tiet-tong-quan-...</td>\n",
       "      <td>Bệnh Chagas đã được nhà khoa học Chagas phát h...</td>\n",
       "    </tr>\n",
       "    <tr>\n",
       "      <th>3</th>\n",
       "      <td>Bệnh dại</td>\n",
       "      <td>http://diendan.songkhoe.vn/dien-dan-benh-dai-s...</td>\n",
       "      <td>http://diendan.songkhoe.vn/chi-tiet-tong-quan-...</td>\n",
       "      <td>1. Gây nhiễm:\\n\\nVirus dại xâm nhập vào cơ thể...</td>\n",
       "    </tr>\n",
       "    <tr>\n",
       "      <th>4</th>\n",
       "      <td>Bệnh do vi-rút Zika</td>\n",
       "      <td>http://diendan.songkhoe.vn/dien-dan-benh-do-vi...</td>\n",
       "      <td>NaN</td>\n",
       "      <td>1. Gây nhiễm:\\n\\nVirus dại xâm nhập vào cơ thể...</td>\n",
       "    </tr>\n",
       "  </tbody>\n",
       "</table>\n",
       "</div>"
      ],
      "text/plain": [
       "               tenbenh                                           linkbenh  \\\n",
       "0             Bạch hầu  http://diendan.songkhoe.vn/dien-dan-bach-hau-s...   \n",
       "1             Bại liệt  http://diendan.songkhoe.vn/dien-dan-bai-liet-s...   \n",
       "2          Bệnh Chagas  http://diendan.songkhoe.vn/dien-dan-benh-chaga...   \n",
       "3             Bệnh dại  http://diendan.songkhoe.vn/dien-dan-benh-dai-s...   \n",
       "4  Bệnh do vi-rút Zika  http://diendan.songkhoe.vn/dien-dan-benh-do-vi...   \n",
       "\n",
       "                                       linkgioithieu  \\\n",
       "0  http://diendan.songkhoe.vn/chi-tiet-gioi-thieu...   \n",
       "1  http://diendan.songkhoe.vn/chi-tiet-gioi-thieu...   \n",
       "2  http://diendan.songkhoe.vn/chi-tiet-tong-quan-...   \n",
       "3  http://diendan.songkhoe.vn/chi-tiet-tong-quan-...   \n",
       "4                                                NaN   \n",
       "\n",
       "                                                  nd  \n",
       "0  Bệnh bạch hầu là bệnh nhiễm trùng cấp tính lây...  \n",
       "1  Bệnh bại liệt là một bệnh nhiễm vi-rút cấp tín...  \n",
       "2  Bệnh Chagas đã được nhà khoa học Chagas phát h...  \n",
       "3  1. Gây nhiễm:\\n\\nVirus dại xâm nhập vào cơ thể...  \n",
       "4  1. Gây nhiễm:\\n\\nVirus dại xâm nhập vào cơ thể...  "
      ]
     },
     "execution_count": 3,
     "metadata": {},
     "output_type": "execute_result"
    }
   ],
   "source": [
    "df = pd.read_excel(r'F:\\songkhoe.xlsx')\n",
    "df.head()"
   ]
  },
  {
   "cell_type": "code",
   "execution_count": 3,
   "metadata": {
    "collapsed": false,
    "deletable": true,
    "editable": true
   },
   "outputs": [
    {
     "data": {
      "text/plain": [
       "0"
      ]
     },
     "execution_count": 3,
     "metadata": {},
     "output_type": "execute_result"
    }
   ],
   "source": [
    "df.hoi.isnull().sum()"
   ]
  },
  {
   "cell_type": "code",
   "execution_count": 4,
   "metadata": {
    "collapsed": true,
    "deletable": true,
    "editable": true
   },
   "outputs": [],
   "source": [
    "from sklearn.feature_extraction.text import CountVectorizer\n",
    "count_vect = CountVectorizer()\n",
    "from sklearn.feature_extraction.text import TfidfTransformer\n",
    "tfidf_transformer = TfidfTransformer()"
   ]
  },
  {
   "cell_type": "code",
   "execution_count": 5,
   "metadata": {
    "collapsed": false,
    "deletable": true,
    "editable": true
   },
   "outputs": [],
   "source": [
    "train = count_vect.fit_transform(df.dap)\n",
    "train_tfidf = tfidf_transformer.fit_transform(train)"
   ]
  },
  {
   "cell_type": "code",
   "execution_count": 6,
   "metadata": {
    "collapsed": false,
    "deletable": true,
    "editable": true
   },
   "outputs": [],
   "source": [
    "from sklearn.naive_bayes import MultinomialNB\n",
    "clf = MultinomialNB().fit(train_tfidf, df.dap)"
   ]
  },
  {
   "cell_type": "code",
   "execution_count": 7,
   "metadata": {
    "collapsed": false,
    "deletable": true,
    "editable": true
   },
   "outputs": [
    {
     "data": {
      "text/plain": [
       "0    giun benh kim\n",
       "dtype: object"
      ]
     },
     "execution_count": 7,
     "metadata": {},
     "output_type": "execute_result"
    }
   ],
   "source": [
    "test = pd.Series('giun benh kim')\n",
    "test.head()"
   ]
  },
  {
   "cell_type": "code",
   "execution_count": 8,
   "metadata": {
    "collapsed": false,
    "deletable": true,
    "editable": true
   },
   "outputs": [
    {
     "name": "stdout",
     "output_type": "stream",
     "text": [
      "  (0, 5)\t1\n",
      "  (0, 39)\t1\n",
      "  (0, 57)\t1\n"
     ]
    }
   ],
   "source": [
    "test = count_vect.transform(test)\n",
    "print (test)"
   ]
  },
  {
   "cell_type": "code",
   "execution_count": 9,
   "metadata": {
    "collapsed": false,
    "deletable": true,
    "editable": true
   },
   "outputs": [
    {
     "name": "stdout",
     "output_type": "stream",
     "text": [
      "  (0, 57)\t0.57735026919\n",
      "  (0, 39)\t0.57735026919\n",
      "  (0, 5)\t0.57735026919\n"
     ]
    }
   ],
   "source": [
    "test_tfidf = tfidf_transformer.fit_transform(test)\n",
    "print(test_tfidf)"
   ]
  },
  {
   "cell_type": "code",
   "execution_count": 10,
   "metadata": {
    "collapsed": false,
    "deletable": true,
    "editable": true
   },
   "outputs": [
    {
     "name": "stdout",
     "output_type": "stream",
     "text": [
      "Nhiem giun kim\n"
     ]
    }
   ],
   "source": [
    "results = clf.predict(test_tfidf)\n",
    "for i in results:\n",
    "    print(i)"
   ]
  },
  {
   "cell_type": "code",
   "execution_count": 11,
   "metadata": {
    "collapsed": false,
    "deletable": true,
    "editable": true
   },
   "outputs": [
    {
     "data": {
      "text/plain": [
       "['aids',\n",
       " 'bach',\n",
       " 'bai',\n",
       " 'balantidium',\n",
       " 'ban',\n",
       " 'benh',\n",
       " 'bi',\n",
       " 'botulinum',\n",
       " 'cam',\n",
       " 'candida',\n",
       " 'cau',\n",
       " 'chagas',\n",
       " 'chan',\n",
       " 'chay',\n",
       " 'chi',\n",
       " 'chlamydia',\n",
       " 'cholerae',\n",
       " 'clostridium',\n",
       " 'coc',\n",
       " 'coli',\n",
       " 'cot',\n",
       " 'coxsackie',\n",
       " 'cum',\n",
       " 'da',\n",
       " 'dai',\n",
       " 'dau',\n",
       " 'dich',\n",
       " 'do',\n",
       " 'dua',\n",
       " 'duc',\n",
       " 'dysenteriae',\n",
       " 'ebola',\n",
       " 'echinococcus',\n",
       " 'escherichia',\n",
       " 'ga',\n",
       " 'gan',\n",
       " 'ghe',\n",
       " 'giang',\n",
       " 'giardia',\n",
       " 'giun',\n",
       " 'h1n1',\n",
       " 'h5n1',\n",
       " 'ha',\n",
       " 'hach',\n",
       " 'haemophilus',\n",
       " 'han',\n",
       " 'hantan',\n",
       " 'hau',\n",
       " 'he',\n",
       " 'herpes',\n",
       " 'hiv',\n",
       " 'ho',\n",
       " 'hoi',\n",
       " 'hong',\n",
       " 'huyet',\n",
       " 'ke',\n",
       " 'khuan',\n",
       " 'kim',\n",
       " 'la',\n",
       " 'lamblia',\n",
       " 'lanh',\n",
       " 'lao',\n",
       " 'lau',\n",
       " 'leptospira',\n",
       " 'liet',\n",
       " 'luon',\n",
       " 'ly',\n",
       " 'lyme',\n",
       " 'mai',\n",
       " 'mang',\n",
       " 'mao',\n",
       " 'mem',\n",
       " 'mieng',\n",
       " 'mo',\n",
       " 'moc',\n",
       " 'mong',\n",
       " 'mu',\n",
       " 'mun',\n",
       " 'nam',\n",
       " 'nao',\n",
       " 'nhat',\n",
       " 'nhiem',\n",
       " 'nieu',\n",
       " 'nocardia',\n",
       " 'nu',\n",
       " 'pertenue',\n",
       " 'phe',\n",
       " 'phoi',\n",
       " 'phong',\n",
       " 'quai',\n",
       " 'quy',\n",
       " 'ret',\n",
       " 'roi',\n",
       " 'rota',\n",
       " 'rubella',\n",
       " 'rubeon',\n",
       " 'ruot',\n",
       " 'rut',\n",
       " 'san',\n",
       " 'shigella',\n",
       " 'simplex',\n",
       " 'sinh',\n",
       " 'soi',\n",
       " 'song',\n",
       " 'sot',\n",
       " 'sui',\n",
       " 'ta',\n",
       " 'tay',\n",
       " 'than',\n",
       " 'thuong',\n",
       " 'thuy',\n",
       " 'tiet',\n",
       " 'tieu',\n",
       " 'tim',\n",
       " 'toc',\n",
       " 'treponema',\n",
       " 'truc',\n",
       " 'trung',\n",
       " 'truyen',\n",
       " 'uon',\n",
       " 'van',\n",
       " 'vang',\n",
       " 'vi',\n",
       " 'vibrio',\n",
       " 'viem',\n",
       " 'xoan',\n",
       " 'xuat',\n",
       " 'xuong',\n",
       " 'zika',\n",
       " 'zoster']"
      ]
     },
     "execution_count": 11,
     "metadata": {},
     "output_type": "execute_result"
    }
   ],
   "source": [
    "count_vect.get_feature_names()"
   ]
  },
  {
   "cell_type": "code",
   "execution_count": 12,
   "metadata": {
    "collapsed": false,
    "deletable": true,
    "editable": true
   },
   "outputs": [
    {
     "data": {
      "text/plain": [
       "['C:\\\\Users\\\\Phan\\\\Desktop\\\\2017120810\\\\vect.pkl']"
      ]
     },
     "execution_count": 12,
     "metadata": {},
     "output_type": "execute_result"
    }
   ],
   "source": [
    "from sklearn.externals import joblib\n",
    "#feature_list = count_vect.get_feature_names()\n",
    "#joblib.dump(feature_list, r'C:\\Users\\Phan\\Desktop\\20171127\\5\\28\\vect.pkl')\n",
    "joblib.dump(count_vect.vocabulary_, r'C:\\Users\\Phan\\Desktop\\2017120810\\vect.pkl')"
   ]
  },
  {
   "cell_type": "code",
   "execution_count": 13,
   "metadata": {
    "collapsed": false,
    "deletable": true,
    "editable": true,
    "scrolled": false
   },
   "outputs": [
    {
     "data": {
      "text/plain": [
       "['C:\\\\Users\\\\Phan\\\\Desktop\\\\2017120810\\\\model.sav']"
      ]
     },
     "execution_count": 13,
     "metadata": {},
     "output_type": "execute_result"
    }
   ],
   "source": [
    "joblib.dump(clf, r'C:\\Users\\Phan\\Desktop\\2017120810\\model.sav')"
   ]
  }
 ],
 "metadata": {
  "kernelspec": {
   "display_name": "Python 3",
   "language": "python",
   "name": "python3"
  },
  "language_info": {
   "codemirror_mode": {
    "name": "ipython",
    "version": 3
   },
   "file_extension": ".py",
   "mimetype": "text/x-python",
   "name": "python",
   "nbconvert_exporter": "python",
   "pygments_lexer": "ipython3",
   "version": "3.6.1"
  }
 },
 "nbformat": 4,
 "nbformat_minor": 2
}
